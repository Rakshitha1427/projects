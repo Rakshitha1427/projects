{
 "cells": [
  {
   "cell_type": "code",
   "execution_count": 3,
   "id": "1287b6cd-7193-41fc-8e25-eb1f887f64db",
   "metadata": {},
   "outputs": [
    {
     "name": "stdout",
     "output_type": "stream",
     "text": [
      "python=1\n",
      "is=2\n",
      "a=3\n",
      "high=1\n",
      "level=1\n",
      "versatile=1\n",
      "language=1\n",
      "known=1\n",
      "for=2\n",
      "its=1\n",
      "readability=1\n",
      "it=1\n",
      "supports=1\n",
      "multiple=1\n",
      "paradigms=1\n",
      "powers=1\n",
      "web=1\n",
      "development=1\n",
      "and=3\n",
      "data=1\n",
      "science=1\n",
      "offers=1\n",
      "rich=1\n",
      "library=1\n",
      "ecosystem=1\n",
      "has=1\n",
      "strong=1\n",
      "community=1\n",
      "great=1\n",
      "both=1\n",
      "beginners=1\n",
      "experts=1\n"
     ]
    }
   ],
   "source": [
    "#1.write a program to count the number of frequencies in a given text\n",
    "import re\n",
    "\n",
    "def count_word_frequencies(text):\n",
    "    text=text.lower()\n",
    "    count_word=re.findall(r'[\\w\\']+',text)\n",
    "    word_frequencies={}\n",
    "    for m in count_word:\n",
    "        if m in word_frequencies:\n",
    "            word_frequencies[m] +=1\n",
    "        else:\n",
    "            word_frequencies[m] =1\n",
    "    return word_frequencies\n",
    "\n",
    "text=\"Python is a high-level, versatile language known for its readability; it supports multiple paradigms, powers web development and data science, offers a rich library ecosystem, has a strong community, and is great for both beginners and experts\"\n",
    "frequencies=count_word_frequencies(text)\n",
    "for word,count in frequencies.items():\n",
    "    print(f'{word}={count}')"
   ]
  },
  {
   "cell_type": "code",
   "execution_count": 7,
   "id": "c7c5422b-5435-46e6-9f9d-b6dbedb10101",
   "metadata": {},
   "outputs": [
    {
     "name": "stdin",
     "output_type": "stream",
     "text": [
      "enter your text madam\n"
     ]
    },
    {
     "name": "stdout",
     "output_type": "stream",
     "text": [
      "the word madam is a palindrome\n"
     ]
    }
   ],
   "source": [
    "#2.Palindrome Checker\n",
    "text=input(\"enter your text\")\n",
    "text=text.replace(\" \",\"\").lower()\n",
    "if text==text[::-1]:\n",
    "    print(f\"the word {text} is a palindrome\")\n",
    "else:\n",
    "    print(f\"the word {text} is not a palindrome\")\n",
    "    "
   ]
  },
  {
   "cell_type": "code",
   "execution_count": 13,
   "id": "70236510-88c7-4dbb-a91f-e0901039d68c",
   "metadata": {},
   "outputs": [
    {
     "name": "stdout",
     "output_type": "stream",
     "text": [
      "the square of the  number 1 is 1\n",
      "the square of the  number 2 is 4\n",
      "the square of the  number 3 is 9\n",
      "the square of the  number 4 is 16\n",
      "the square of the  number 5 is 25\n",
      "the square of the  number 6 is 36\n",
      "the square of the  number 7 is 49\n"
     ]
    }
   ],
   "source": [
    "#list Manipulation \n",
    "my_list=[1,2,3,4,5,6,7]\n",
    "#list comprehension\n",
    "list=[num**2 for num in my_list]\n",
    "for i in range(0,len(my_list)):\n",
    "    print(f'the square of the  number {my_list[i]} is {list[i]}')\n"
   ]
  },
  {
   "cell_type": "code",
   "execution_count": null,
   "id": "a84a8567-4a2b-462e-928d-5529da60438e",
   "metadata": {},
   "outputs": [],
   "source": []
  }
 ],
 "metadata": {
  "kernelspec": {
   "display_name": "Python [conda env:env]",
   "language": "python",
   "name": "conda-env-env-py"
  },
  "language_info": {
   "codemirror_mode": {
    "name": "ipython",
    "version": 3
   },
   "file_extension": ".py",
   "mimetype": "text/x-python",
   "name": "python",
   "nbconvert_exporter": "python",
   "pygments_lexer": "ipython3",
   "version": "3.12.9"
  }
 },
 "nbformat": 4,
 "nbformat_minor": 5
}
